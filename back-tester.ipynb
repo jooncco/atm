{
 "cells": [
  {
   "cell_type": "code",
   "execution_count": 5,
   "id": "91201540-a734-448a-b851-cb4160920467",
   "metadata": {},
   "outputs": [
    {
     "ename": "NameError",
     "evalue": "name 'depth' is not defined",
     "output_type": "error",
     "traceback": [
      "\u001b[0;31m---------------------------------------------------------------------------\u001b[0m",
      "\u001b[0;31mNameError\u001b[0m                                 Traceback (most recent call last)",
      "Cell \u001b[0;32mIn[5], line 5\u001b[0m\n\u001b[1;32m      2\u001b[0m \u001b[38;5;28;01mimport\u001b[39;00m \u001b[38;5;21;01mjson\u001b[39;00m\n\u001b[1;32m      4\u001b[0m \u001b[38;5;66;03m# OKEx public REST API endpoint for fetching order book data\u001b[39;00m\n\u001b[0;32m----> 5\u001b[0m url \u001b[38;5;241m=\u001b[39m \u001b[38;5;124mf\u001b[39m\u001b[38;5;124m\"\u001b[39m\u001b[38;5;124mhttps://www.okex.com/api/spot/v3/instruments/\u001b[39m\u001b[38;5;132;01m{\u001b[39;00msymbol\u001b[38;5;132;01m}\u001b[39;00m\u001b[38;5;124m/book?size=\u001b[39m\u001b[38;5;132;01m{\u001b[39;00mdepth\u001b[38;5;132;01m}\u001b[39;00m\u001b[38;5;124m\"\u001b[39m\n\u001b[1;32m      7\u001b[0m \u001b[38;5;28;01mdef\u001b[39;00m \u001b[38;5;21mfetch_order_book\u001b[39m(symbol, depth\u001b[38;5;241m=\u001b[39m\u001b[38;5;241m10\u001b[39m):\n\u001b[1;32m      8\u001b[0m     \u001b[38;5;28;01mtry\u001b[39;00m:\n\u001b[1;32m      9\u001b[0m         \u001b[38;5;66;03m# OKEx public REST API endpoint for fetching order book data\u001b[39;00m\n",
      "\u001b[0;31mNameError\u001b[0m: name 'depth' is not defined"
     ]
    }
   ],
   "source": [
    "import requests\n",
    "import json\n",
    "\n",
    "def fetch_order_book(symbol, depth=10):\n",
    "    try:\n",
    "        # OKEx public REST API endpoint for fetching order book data\n",
    "    url = f\"https://www.okex.com/api/spot/v3/instruments/{symbol}/book?size={depth}\"\n",
    "        \n",
    "        # Make a GET request to the API endpoint\n",
    "        response = requests.get(url)\n",
    "        response.raise_for_status()  # Raise an exception for HTTP errors\n",
    "        \n",
    "        # Parse the JSON response\n",
    "        order_book_data = response.json()\n",
    "        \n",
    "        return order_book_data\n",
    "    except requests.exceptions.RequestException as e:\n",
    "        print(f\"Error fetching OKX order book data: {e}\")\n",
    "        return None\n",
    "\n",
    "def plot_order_book(order_book_data, symbol):\n",
    "    bids = order_book_data[\"bids\"]\n",
    "    asks = order_book_data[\"asks\"]\n",
    "    \n",
    "    # Extract prices and quantities for bids and asks\n",
    "    bid_prices = [float(bid[0]) for bid in bids]\n",
    "    bid_quantities = [float(bid[1]) for bid in bids]\n",
    "    ask_prices = [float(ask[0]) for ask in asks]\n",
    "    ask_quantities = [float(ask[1]) for ask in asks]\n",
    "    \n",
    "    # Plot the order book\n",
    "    plt.figure(figsize=(10, 6))\n",
    "    plt.plot(bid_prices, bid_quantities, 'g-', label='Bids')\n",
    "    plt.plot(ask_prices, ask_quantities, 'r-', label='Asks')\n",
    "    plt.title(f'Order Book for {symbol}')\n",
    "    plt.xlabel('Price')\n",
    "    plt.ylabel('Quantity')\n",
    "    plt.legend()\n",
    "    plt.grid(True)\n",
    "    plt.show()\n",
    "\n",
    "if __name__ == \"__main__\":\n",
    "    # Symbol of the trading pair you want to fetch order book data for\n",
    "    symbol = \"BTC-USDT\"  # Example: Bitcoin to USDT\n",
    "    \n",
    "    # Fetch order book data for the specified symbol\n",
    "    order_book_data = fetch_order_book(symbol)\n",
    "    \n",
    "    if order_book_data:\n",
    "        print(\"OKX Order Book Data:\")\n",
    "        print(order_book_data)\n",
    "        \n",
    "        # Plot the order book\n",
    "        plot_order_book(order_book_data, symbol)\n",
    "    else:\n",
    "        print(\"Failed to fetch OKX order book data.\")\n"
   ]
  },
  {
   "cell_type": "code",
   "execution_count": null,
   "id": "7efd3f7a-569c-4b20-bdf0-2a17a92d4046",
   "metadata": {},
   "outputs": [],
   "source": []
  }
 ],
 "metadata": {
  "kernelspec": {
   "display_name": "Python 3 (ipykernel)",
   "language": "python",
   "name": "python3"
  },
  "language_info": {
   "codemirror_mode": {
    "name": "ipython",
    "version": 3
   },
   "file_extension": ".py",
   "mimetype": "text/x-python",
   "name": "python",
   "nbconvert_exporter": "python",
   "pygments_lexer": "ipython3",
   "version": "3.12.2"
  }
 },
 "nbformat": 4,
 "nbformat_minor": 5
}
